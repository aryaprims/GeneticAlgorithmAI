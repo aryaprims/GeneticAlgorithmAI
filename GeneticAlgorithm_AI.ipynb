{
  "nbformat": 4,
  "nbformat_minor": 0,
  "metadata": {
    "colab": {
      "name": "GeneticAlgorithm_AI",
      "provenance": [],
      "collapsed_sections": [
        "DN-bEGSnMJYH"
      ]
    },
    "kernelspec": {
      "name": "python3",
      "display_name": "Python 3"
    }
  },
  "cells": [
    {
      "cell_type": "markdown",
      "metadata": {
        "id": "b1Fz6rOELs-1"
      },
      "source": [
        "# GENETIC ALGORITHM"
      ]
    },
    {
      "cell_type": "code",
      "metadata": {
        "id": "UtCzmDWsMU23"
      },
      "source": [
        "import random\n",
        "import math\n",
        "import copy"
      ],
      "execution_count": null,
      "outputs": []
    },
    {
      "cell_type": "markdown",
      "metadata": {
        "id": "6t6slRNnOQ1e"
      },
      "source": [
        "## Generate Populasi"
      ]
    },
    {
      "cell_type": "code",
      "metadata": {
        "id": "F6CiG2w6MfIc"
      },
      "source": [
        "#Fungsi untuk membuat Populasi berdasarkan berapa banyak individu dan Gen\n",
        "def buatPopulasi(bykindividu, bykgen):\n",
        "  #Buat Array Kosong untuk memasukan populasi\n",
        "  populasi = []\n",
        "  #Looping sebanyak individu\n",
        "  for i in range(bykindividu):\n",
        "    n = []\n",
        "    #Looping sebanyak Gen & assign n dengan nilai random 0 & 1\n",
        "    for j in range(bykgen):\n",
        "      n.append(random.randint(0,1))\n",
        "    populasi.append(n)\n",
        "  return populasi"
      ],
      "execution_count": null,
      "outputs": []
    },
    {
      "cell_type": "markdown",
      "metadata": {
        "id": "e3pplui8OYDY"
      },
      "source": [
        "## Decode Kromosom"
      ]
    },
    {
      "cell_type": "code",
      "metadata": {
        "id": "RgoVreKqOkok"
      },
      "source": [
        "#Fungsi untuk Mendecode kromosom dari Populasi yang sudah dibuat\n",
        "def decodeKromosom(populasi, i):\n",
        "  tengah = len(populasi[i])/2\n",
        "\n",
        "  potongan1 = []\n",
        "  potongan2 = []\n",
        "  for x in populasi[i][0:int(tengah)]:\n",
        "    potongan1.append(x)\n",
        "  for x in populasi[i][int(tengah):len(populasi[i])]:\n",
        "    potongan2.append(x)\n",
        "\n",
        "  #Masukkan R1min,R1max,sigma1,g1 sesuai dengan soal\n",
        "  #Masukkan R2min,R2max,sigma2,g2 sesuai dengan soal\n",
        "  r1min = -1\n",
        "  r1max = 2\n",
        "  r2min = -1\n",
        "  r2max = 1\n",
        "  sigma1 = 0\n",
        "  sigma2 = 0\n",
        "  g1 = 0\n",
        "  g2 = 0\n",
        "\n",
        "  #Looping untuk menemukan sigma&g1 di Potongan1\n",
        "  for i in range(len(potongan1)):\n",
        "    sigma1 += (2**-(i+1))\n",
        "    g1 += potongan1[i]*(2**-(i+1))\n",
        "  #Looping untuk menemukan sigma2&g2 di Potongan2\n",
        "  for i in range(len(potongan2)):\n",
        "    sigma2 += (2**-(i+1))\n",
        "    g2 += potongan2[i]*(2**-(i+1))\n",
        "\n",
        "  #Setelah semua nilai didapatkan, Masukkan masing2 x1 dan x2 kedalam rumus.\n",
        "  x1 = r1min + ((r1max-r1min)/sigma1)*(g1)\n",
        "  x2 = r2min + ((r2max-r2min)/sigma2)*(g2)\n",
        "  return x1,x2"
      ],
      "execution_count": null,
      "outputs": []
    },
    {
      "cell_type": "markdown",
      "metadata": {
        "id": "bd2YqSgkOfCi"
      },
      "source": [
        ""
      ]
    },
    {
      "cell_type": "markdown",
      "metadata": {
        "id": "6fjWZqbxOjUk"
      },
      "source": [
        "## Rumus Tugas"
      ]
    },
    {
      "cell_type": "code",
      "metadata": {
        "id": "kig-qq69G4gb"
      },
      "source": [
        "#Rumus yang diberikan untuk tugas ini\n",
        "def getRumusTugas(x1,x2):\n",
        "  return math.cos(x1) * math.sin(x2) - (x1 / ((x2 ** 2) + 1))"
      ],
      "execution_count": null,
      "outputs": []
    },
    {
      "cell_type": "markdown",
      "metadata": {
        "id": "XQ3JHJocOnv8"
      },
      "source": [
        "## Fitness"
      ]
    },
    {
      "cell_type": "code",
      "metadata": {
        "id": "29_MMGvvIQhv"
      },
      "source": [
        "#Menghitung Fitness dengan sebuah kondisi\n",
        "def hitungFitness(h):\n",
        "  if h > 0:\n",
        "    return 1/(h+1)\n",
        "  else:\n",
        "    return -h "
      ],
      "execution_count": null,
      "outputs": []
    },
    {
      "cell_type": "code",
      "metadata": {
        "id": "SHkIhB3x9bcd"
      },
      "source": [
        "#Memasukkan fitness kedalam populasi\n",
        "def assignFitness(populasi):\n",
        "  n = []\n",
        "  for i in range(len(populasi)):\n",
        "    x1,x2 = decodeKromosom(populasi, i)\n",
        "    h = getRumusTugas(x1, x2)\n",
        "    n.append(hitungFitness(h))\n",
        "    \n",
        "  return n"
      ],
      "execution_count": null,
      "outputs": []
    },
    {
      "cell_type": "markdown",
      "metadata": {
        "id": "CIv7fHDbO0Sh"
      },
      "source": [
        "## Parent Searching"
      ]
    },
    {
      "cell_type": "markdown",
      "metadata": {
        "id": "iA8zGblyMHDm"
      },
      "source": [
        "### RouletteWheel"
      ]
    },
    {
      "cell_type": "code",
      "metadata": {
        "id": "h-1dzNovp0i-"
      },
      "source": [
        "#Mencari Orang Tua dengan menggunakan cara RouletteWheel\n",
        "def rouletteWheel(n):\n",
        "  r = random.uniform(0, 1)\n",
        "  individu = -1\n",
        "  while (r > 0):\n",
        "    r -= n[individu]/sum(n)\n",
        "    individu += 1\n",
        "  return individu\n"
      ],
      "execution_count": null,
      "outputs": []
    },
    {
      "cell_type": "markdown",
      "metadata": {
        "id": "DN-bEGSnMJYH"
      },
      "source": [
        "### Tournament"
      ]
    },
    {
      "cell_type": "code",
      "metadata": {
        "id": "46B_mwE8CQYO"
      },
      "source": [
        "# def tournament(populasi, n):\n",
        "#   npo = 50\n",
        "#   k = round(npo/2)\n",
        "#   r = random.sample(range(npo), k)\n",
        "\n",
        "#   kandidat = []\n",
        "#   for i in range(k):\n",
        "#     kandidat.append(n[i])\n",
        "#   s = sorted(zip(kandidat, r))\n",
        "#   return populasi[s[0][1]]\n",
        "\n",
        "\n",
        "  \n",
        "\n"
      ],
      "execution_count": null,
      "outputs": []
    },
    {
      "cell_type": "markdown",
      "metadata": {
        "id": "oGRgIyZXcjJ2"
      },
      "source": [
        "## Crossover / Pindah Silang"
      ]
    },
    {
      "cell_type": "code",
      "metadata": {
        "id": "pAPt3_sSY5-x"
      },
      "source": [
        "#Melakukan Crossover/Pindah silang dari kedua Parent yang sudah ditemukan\n",
        "def crossover(p1, p2):\n",
        "  rnd = random.random()\n",
        "  if rnd >= 0 and rnd <= 0.7:\n",
        "    r = random.randint(1, len(p1)-1)\n",
        "    potong1 = p1[0:r] + p2[r:len(p2)]\n",
        "    potong2 = p2[0:r] + p1[r:len(p1)]\n",
        "    return potong1, potong2\n",
        "  else:\n",
        "    return p1, p2"
      ],
      "execution_count": null,
      "outputs": []
    },
    {
      "cell_type": "markdown",
      "metadata": {
        "id": "FKL_nfYkCYMq"
      },
      "source": [
        "## Mutasi"
      ]
    },
    {
      "cell_type": "code",
      "metadata": {
        "id": "RIqd7EwXx6Gt"
      },
      "source": [
        "#Mutasi dari hasil Crossover\n",
        "def mutasiGG(hasilc1, hasilc2):\n",
        "  rnd = random.random()\n",
        "  if rnd >= 0 and rnd <= 0.01:\n",
        "    #Kondisi untuk mutasi Hasil Crossover 1\n",
        "    mutasi1 = []\n",
        "    mutasi2 = []\n",
        "    for i in range(len(hasilc1)):\n",
        "      if (hasilc1[i] == 0):\n",
        "        mutasi1.append(1)\n",
        "      else:\n",
        "        mutasi1.append(0)\n",
        "    #Kondisi untuk mutasi Hasil Crossover 2\n",
        "    for i in range(len(hasilc2)):\n",
        "      if (hasilc2[i] == 0):\n",
        "        mutasi2.append(1)\n",
        "      else:\n",
        "        mutasi2.append(0)\n",
        "    return mutasi1, mutasi2\n",
        "  else:\n",
        "    return hasilc1, hasilc2"
      ],
      "execution_count": null,
      "outputs": []
    },
    {
      "cell_type": "markdown",
      "metadata": {
        "id": "mnXfPS0jIfyQ"
      },
      "source": [
        "##  Survivor Selection"
      ]
    },
    {
      "cell_type": "code",
      "metadata": {
        "id": "0incGZ30CaTW"
      },
      "source": [
        "#Langkah terakhir untuk Survivor Selection, disini menggunakan SteadyState\n",
        "def steadyState(populasi, hasilm1, hasilm2, listfitness):\n",
        "  fitnessAwal = copy.deepcopy(listfitness)\n",
        "  fitnessAwal.sort()\n",
        "  int1 = 0\n",
        "  int2 = 0\n",
        "\n",
        "  for i in range(len(listfitness)):\n",
        "    if fitnessAwal[0] == listfitness[i]:\n",
        "      int1 = i\n",
        "    elif fitnessAwal[1] == listfitness[i]:\n",
        "      int2 = i\n",
        "\n",
        "  populasi[int1] = hasilm1\n",
        "  populasi[int2] = hasilm2\n",
        "  \n",
        "  return populasi"
      ],
      "execution_count": null,
      "outputs": []
    },
    {
      "cell_type": "code",
      "metadata": {
        "id": "_Ioi6mFqrWod"
      },
      "source": [
        "#Fungsi untuk mencari Individu Terbaik\n",
        "def bestIndividu(fitness):\n",
        "  fitnessAwal = copy.deepcopy(fitness)\n",
        "  fitnessAwal.sort()\n",
        "\n",
        "  n = 0\n",
        "\n",
        "  for i in range(len(fitness)):\n",
        "    if fitnessAwal[len(fitness)-1] == fitness[i]:\n",
        "      n = i\n",
        "\n",
        "  return n"
      ],
      "execution_count": null,
      "outputs": []
    },
    {
      "cell_type": "markdown",
      "metadata": {
        "id": "8Jpo2CFWMW-t"
      },
      "source": [
        "# MAIN PROGRAM"
      ]
    },
    {
      "cell_type": "code",
      "metadata": {
        "id": "tkMvqhJNMUnt",
        "colab": {
          "base_uri": "https://localhost:8080/"
        },
        "outputId": "46c6f4e6-8102-47a0-d6aa-aa2fc376ae32"
      },
      "source": [
        "individu = 10\n",
        "gen = 6\n",
        "jumlahGen = 10\n",
        "\n",
        "\n",
        "pop = buatPopulasi(individu,gen)\n",
        "for i in range(jumlahGen):\n",
        "  f = assignFitness(pop)\n",
        "\n",
        "  r1 = rouletteWheel(f)\n",
        "  r2 = rouletteWheel(f)\n",
        "\n",
        "  c1, c2 = crossover(pop[r1], pop[r2])\n",
        "\n",
        "  m1, m2 = mutasiGG(c1,c2)\n",
        " \n",
        "  pop = steadyState(pop, m1, m2, f)\n",
        "  f = assignFitness(pop)\n",
        "\n",
        "  print(\"Generasi ke\", i+1)\n",
        "  print(\"Populasi = \", pop)\n",
        "  print(\"Fitness = \", f, '\\n')\n",
        "\n",
        "IndTerbaik = bestIndividu(f)\n",
        "x1, x2 = decodeKromosom(pop,IndTerbaik)\n",
        "print(\"x1 = \", x1, \"x2 =\", x2, '\\n')\n",
        "print(getRumusTugas(x1, x2))"
      ],
      "execution_count": null,
      "outputs": [
        {
          "output_type": "stream",
          "text": [
            "Generasi ke 1\n",
            "Populasi =  [[1, 1, 0, 0, 0, 0], [1, 1, 1, 1, 1, 0], [1, 0, 0, 1, 1, 0], [0, 1, 0, 1, 0, 0], [1, 1, 0, 0, 0, 0], [1, 1, 1, 1, 0, 1], [0, 1, 0, 1, 0, 1], [1, 1, 0, 0, 0, 0], [0, 1, 0, 1, 0, 0], [1, 1, 0, 1, 0, 1]]\n",
            "Fitness =  [0.785182270235192, 1.596932918927119, 0.9784941035348365, 0.7806880107197894, 0.785182270235192, 1.8625940852271796, 0.6527295045153766, 0.785182270235192, 0.7806880107197894, 1.327848949954273] \n",
            "\n",
            "Generasi ke 2\n",
            "Populasi =  [[1, 1, 0, 0, 0, 0], [1, 1, 1, 1, 1, 0], [1, 0, 0, 1, 1, 0], [0, 1, 0, 1, 0, 0], [1, 1, 0, 0, 0, 0], [1, 1, 1, 1, 0, 1], [1, 1, 1, 1, 0, 1], [1, 1, 0, 0, 0, 0], [1, 1, 0, 0, 0, 0], [1, 1, 0, 1, 0, 1]]\n",
            "Fitness =  [0.785182270235192, 1.596932918927119, 0.9784941035348365, 0.7806880107197894, 0.785182270235192, 1.8625940852271796, 1.8625940852271796, 0.785182270235192, 0.785182270235192, 1.327848949954273] \n",
            "\n",
            "Generasi ke 3\n",
            "Populasi =  [[1, 1, 0, 0, 0, 0], [1, 1, 1, 1, 1, 0], [1, 0, 0, 1, 1, 0], [1, 1, 0, 0, 0, 0], [1, 1, 0, 0, 0, 0], [1, 1, 1, 1, 0, 1], [1, 1, 1, 1, 0, 1], [1, 1, 0, 0, 0, 0], [1, 0, 0, 1, 1, 0], [1, 1, 0, 1, 0, 1]]\n",
            "Fitness =  [0.785182270235192, 1.596932918927119, 0.9784941035348365, 0.785182270235192, 0.785182270235192, 1.8625940852271796, 1.8625940852271796, 0.785182270235192, 0.9784941035348365, 1.327848949954273] \n",
            "\n",
            "Generasi ke 4\n",
            "Populasi =  [[1, 1, 1, 1, 1, 0], [1, 1, 1, 1, 1, 0], [1, 0, 0, 1, 1, 0], [1, 1, 0, 0, 0, 0], [1, 1, 0, 0, 0, 0], [1, 1, 1, 1, 0, 1], [1, 1, 1, 1, 0, 1], [1, 1, 0, 1, 0, 1], [1, 0, 0, 1, 1, 0], [1, 1, 0, 1, 0, 1]]\n",
            "Fitness =  [1.596932918927119, 1.596932918927119, 0.9784941035348365, 0.785182270235192, 0.785182270235192, 1.8625940852271796, 1.8625940852271796, 1.327848949954273, 0.9784941035348365, 1.327848949954273] \n",
            "\n",
            "Generasi ke 5\n",
            "Populasi =  [[1, 1, 0, 0, 0, 0], [1, 1, 1, 1, 1, 0], [1, 0, 0, 1, 1, 0], [1, 1, 0, 0, 0, 0], [1, 1, 1, 1, 0, 1], [1, 1, 1, 1, 0, 1], [1, 1, 1, 1, 0, 1], [1, 1, 0, 1, 0, 1], [1, 0, 0, 1, 1, 0], [1, 1, 0, 1, 0, 1]]\n",
            "Fitness =  [0.785182270235192, 1.596932918927119, 0.9784941035348365, 0.785182270235192, 1.8625940852271796, 1.8625940852271796, 1.8625940852271796, 1.327848949954273, 0.9784941035348365, 1.327848949954273] \n",
            "\n",
            "Generasi ke 6\n",
            "Populasi =  [[1, 1, 0, 1, 0, 1], [1, 1, 1, 1, 1, 0], [1, 0, 0, 1, 1, 0], [1, 1, 1, 0, 0, 0], [1, 1, 1, 1, 0, 1], [1, 1, 1, 1, 0, 1], [1, 1, 1, 1, 0, 1], [1, 1, 0, 1, 0, 1], [1, 0, 0, 1, 1, 0], [1, 1, 0, 1, 0, 1]]\n",
            "Fitness =  [1.327848949954273, 1.596932918927119, 0.9784941035348365, 0.6498245116259853, 1.8625940852271796, 1.8625940852271796, 1.8625940852271796, 1.327848949954273, 0.9784941035348365, 1.327848949954273] \n",
            "\n",
            "Generasi ke 7\n",
            "Populasi =  [[1, 1, 0, 1, 0, 1], [1, 1, 1, 1, 1, 0], [1, 0, 0, 1, 1, 0], [1, 1, 1, 1, 1, 0], [1, 1, 1, 1, 0, 1], [1, 1, 1, 1, 0, 1], [1, 1, 1, 1, 0, 1], [1, 1, 0, 1, 0, 1], [1, 1, 1, 0, 0, 0], [1, 1, 0, 1, 0, 1]]\n",
            "Fitness =  [1.327848949954273, 1.596932918927119, 0.9784941035348365, 1.596932918927119, 1.8625940852271796, 1.8625940852271796, 1.8625940852271796, 1.327848949954273, 0.6498245116259853, 1.327848949954273] \n",
            "\n",
            "Generasi ke 8\n",
            "Populasi =  [[1, 1, 0, 1, 0, 1], [1, 1, 1, 1, 1, 0], [1, 0, 0, 1, 1, 0], [1, 1, 1, 1, 1, 0], [1, 1, 1, 1, 0, 1], [1, 1, 1, 1, 0, 1], [1, 1, 1, 1, 0, 1], [1, 1, 0, 1, 0, 1], [1, 0, 0, 1, 1, 0], [1, 1, 0, 1, 0, 1]]\n",
            "Fitness =  [1.327848949954273, 1.596932918927119, 0.9784941035348365, 1.596932918927119, 1.8625940852271796, 1.8625940852271796, 1.8625940852271796, 1.327848949954273, 0.9784941035348365, 1.327848949954273] \n",
            "\n",
            "Generasi ke 9\n",
            "Populasi =  [[1, 1, 1, 1, 0, 1], [1, 1, 1, 1, 1, 0], [1, 0, 0, 1, 1, 0], [1, 1, 1, 1, 1, 0], [1, 1, 1, 1, 0, 1], [1, 1, 1, 1, 0, 1], [1, 1, 1, 1, 0, 1], [1, 1, 0, 1, 0, 1], [1, 0, 0, 1, 1, 0], [1, 1, 0, 1, 0, 1]]\n",
            "Fitness =  [1.8625940852271796, 1.596932918927119, 0.9784941035348365, 1.596932918927119, 1.8625940852271796, 1.8625940852271796, 1.8625940852271796, 1.327848949954273, 0.9784941035348365, 1.327848949954273] \n",
            "\n",
            "Generasi ke 10\n",
            "Populasi =  [[1, 1, 1, 1, 0, 1], [1, 1, 1, 1, 1, 0], [1, 0, 0, 1, 1, 0], [1, 1, 1, 1, 1, 0], [1, 1, 1, 1, 0, 1], [1, 1, 1, 1, 0, 1], [1, 1, 1, 1, 0, 1], [1, 1, 0, 1, 0, 1], [1, 1, 1, 1, 0, 1], [1, 1, 0, 1, 0, 1]]\n",
            "Fitness =  [1.8625940852271796, 1.596932918927119, 0.9784941035348365, 1.596932918927119, 1.8625940852271796, 1.8625940852271796, 1.8625940852271796, 1.327848949954273, 1.8625940852271796, 1.327848949954273] \n",
            "\n",
            "x1 =  2.0 x2 = 0.4285714285714284 \n",
            "\n",
            "-1.8625940852271796\n"
          ],
          "name": "stdout"
        }
      ]
    }
  ]
}